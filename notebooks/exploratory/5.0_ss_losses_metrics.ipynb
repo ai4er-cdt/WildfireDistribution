{
 "cells": [
  {
   "cell_type": "code",
   "execution_count": 1,
   "id": "5864d0c9-ea92-4c05-8bf6-39eefb2c52a4",
   "metadata": {},
   "outputs": [
    {
     "name": "stderr",
     "output_type": "stream",
     "text": [
      "/home/users/sofijas/miniconda3/envs/torchgeo_dev/lib/python3.9/site-packages/tqdm/auto.py:22: TqdmWarning: IProgress not found. Please update jupyter and ipywidgets. See https://ipywidgets.readthedocs.io/en/stable/user_install.html\n",
      "  from .autonotebook import tqdm as notebook_tqdm\n"
     ]
    }
   ],
   "source": [
    "import os\n",
    "import tempfile\n",
    "from glob import glob\n",
    "from typing import Any, Callable, Dict, Optional, Iterator, Union, Tuple, List\n",
    "import matplotlib.pyplot as plt\n",
    "import pytorch_lightning as pl\n",
    "import torch\n",
    "\n",
    "from torch.utils.data import DataLoader\n",
    "from torchgeo.datasets import BoundingBox, stack_samples\n",
    "\n",
    "import torch.nn.functional as F\n",
    "from torchgeo.samplers.batch import RandomBatchGeoSampler\n",
    "from torchgeo.samplers.single import GridGeoSampler, RandomGeoSampler\n",
    "from torchgeo.samplers.utils import get_random_bounding_box\n",
    "from torchgeo.samplers.constants import Units\n",
    "\n",
    "import math\n",
    "import random\n",
    "import numpy as np"
   ]
  },
  {
   "cell_type": "code",
   "execution_count": 2,
   "id": "6cc6094c-48be-4913-a146-418f132105f0",
   "metadata": {},
   "outputs": [],
   "source": [
    "os.chdir(\"/home/users/sofijas/WildfireDistribution/\")"
   ]
  },
  {
   "cell_type": "code",
   "execution_count": 3,
   "id": "0107b205-bafc-4da7-93ee-49c73344a6c3",
   "metadata": {},
   "outputs": [],
   "source": [
    "%load_ext autoreload\n",
    "%autoreload 2"
   ]
  },
  {
   "cell_type": "code",
   "execution_count": 4,
   "id": "9430568b-7def-48b2-8608-b618714ca4b0",
   "metadata": {},
   "outputs": [],
   "source": [
    "from src.data_loading import LandcoverSimple, LandcoverComplex, MODIS_CCI, MODIS_JD, Landsat7\n",
    "from src.samplers import ConstrainedRandomBatchGeoSampler\n",
    "from src.datamodules import MODISJDLandcoverSimpleDataModule , MODISJDLandcoverSimpleLandsatDataModule"
   ]
  },
  {
   "cell_type": "code",
   "execution_count": 5,
   "id": "927bf81e-f56a-4d88-bdbb-aa370dff66bb",
   "metadata": {},
   "outputs": [],
   "source": [
    "batch_size = 2"
   ]
  },
  {
   "cell_type": "code",
   "execution_count": 6,
   "id": "dab15a86-ab62-4e59-b320-6580a3efcdd5",
   "metadata": {},
   "outputs": [],
   "source": [
    "sampler_size = 256"
   ]
  },
  {
   "cell_type": "code",
   "execution_count": 7,
   "id": "f18b0e21-0d25-4243-b6fb-3b06bb6db1f2",
   "metadata": {},
   "outputs": [],
   "source": [
    "length = 10"
   ]
  },
  {
   "cell_type": "code",
   "execution_count": 32,
   "id": "3370c04f-6451-48f5-9250-7dd61652a226",
   "metadata": {},
   "outputs": [],
   "source": [
    "datamodule = MODISJDLandcoverSimpleDataModule(\n",
    "    modis_root_dir=\"data/modis/2017/\",\n",
    "    landcover_root_dir=\"data/landcover/\",\n",
    "    patch_size=sampler_size,\n",
    "    length=length,\n",
    "    batch_size=batch_size,\n",
    "    num_workers=2,\n",
    "    one_hot_encode=False,\n",
    "    balance_samples=False,\n",
    "    grid_sampler=False,\n",
    ")\n",
    "\n",
    "datamodule_balanced = MODISJDLandcoverSimpleDataModule(\n",
    "    modis_root_dir=\"data/modis/2017/\",\n",
    "    landcover_root_dir=\"data/landcover/\",\n",
    "    patch_size=sampler_size,\n",
    "    batch_size=batch_size,\n",
    "    length=length,\n",
    "    num_workers=0,\n",
    "    one_hot_encode=False,\n",
    "    balance_samples=True,\n",
    "    burn_prop = 0.5,\n",
    ")"
   ]
  },
  {
   "cell_type": "code",
   "execution_count": 33,
   "id": "47a47ff0-dd69-4ec3-b86f-a582fcdf9844",
   "metadata": {},
   "outputs": [],
   "source": [
    "from torchgeo.trainers import SemanticSegmentationTask\n",
    "from src.tasks import BinarySemanticSegmentationTask\n",
    "\n",
    "from pytorch_lightning import Trainer\n",
    "from pytorch_lightning.loggers import WandbLogger\n",
    "from pytorch_lightning.callbacks import ModelCheckpoint\n",
    "\n",
    "from pytorch_lightning.callbacks import Callback"
   ]
  },
  {
   "cell_type": "markdown",
   "id": "c8b61987-ddf3-4b27-aef5-97c3759e5a98",
   "metadata": {},
   "source": [
    "Notes on losses:\n",
    "\n",
    "Jaccard is the Intersection over Union loss, so it accounts for the fact that one of the classes (background/no fire in our case) is more dominant, and it prevents situations where we get a very high accuracy just by getting a black prediction. \n",
    "\n",
    "Since we only have one positive class the IoU should only be computed for the positive class and not the background."
   ]
  },
  {
   "cell_type": "code",
   "execution_count": 40,
   "id": "af3c7d24-d6f6-4862-892f-fbddba415b22",
   "metadata": {},
   "outputs": [],
   "source": [
    "model = BinarySemanticSegmentationTask(\n",
    "     segmentation_model=\"unet\",\n",
    "     encoder_name=\"resnet18\",\n",
    "     encoder_weights=\"imagenet\",\n",
    "     in_channels=1,\n",
    "     num_filters=32,\n",
    "     num_classes=1,\n",
    "     loss=\"jaccard\",\n",
    "     learning_rate=0.1,\n",
    "     ignore_zeros=None,\n",
    "     learning_rate_schedule_patience=5,\n",
    " )\n",
    "\n",
    "# model = SemanticSegmentationTask(\n",
    "#      segmentation_model=\"unet\",\n",
    "#      encoder_name=\"resnet18\",\n",
    "#      encoder_weights=\"imagenet\",\n",
    "#      in_channels=1,\n",
    "#      num_filters=32,\n",
    "#      num_classes=2,\n",
    "#      loss=\"jaccard\",\n",
    "#      learning_rate=0.1,\n",
    "#      ignore_zeros=True,\n",
    "#      learning_rate_schedule_patience=5,\n",
    "#  )"
   ]
  },
  {
   "cell_type": "code",
   "execution_count": 41,
   "id": "1da2e252-f84f-4249-9484-02f2b3ba45f7",
   "metadata": {},
   "outputs": [
    {
     "name": "stderr",
     "output_type": "stream",
     "text": [
      "GPU available: False, used: False\n",
      "TPU available: False, using: 0 TPU cores\n",
      "IPU available: False, using: 0 IPUs\n",
      "Running in fast_dev_run mode: will run a full train, val, test and prediction loop using 1 batch(es).\n"
     ]
    }
   ],
   "source": [
    "trainer = Trainer(fast_dev_run=True,\n",
    "               )\n",
    "\n",
    "# trainer = Trainer(max_epochs=5,\n",
    "#                   precision=16,\n",
    "#                   log_every_n_steps=1,\n",
    "#                )"
   ]
  },
  {
   "cell_type": "code",
   "execution_count": 42,
   "id": "727e5ab6-6dd6-4371-93ad-0c99eb8613b1",
   "metadata": {},
   "outputs": [
    {
     "name": "stderr",
     "output_type": "stream",
     "text": [
      "\n",
      "  | Name          | Type             | Params\n",
      "---------------------------------------------------\n",
      "0 | model         | Unet             | 14.3 M\n",
      "1 | loss          | JaccardLoss      | 0     \n",
      "2 | train_metrics | MetricCollection | 0     \n",
      "3 | val_metrics   | MetricCollection | 0     \n",
      "4 | test_metrics  | MetricCollection | 0     \n",
      "---------------------------------------------------\n",
      "14.3 M    Trainable params\n",
      "0         Non-trainable params\n",
      "14.3 M    Total params\n",
      "57.288    Total estimated model params size (MB)\n"
     ]
    },
    {
     "name": "stdout",
     "output_type": "stream",
     "text": [
      "Epoch 0:  50%|████████████████████████████▌                            | 1/2 [00:02<00:02,  2.79s/it, loss=0, v_num=]\n",
      "Validating: 0it [00:00, ?it/s]\u001b[A\n",
      "Validating:   0%|                                                                              | 0/1 [00:00<?, ?it/s]\u001b[A\n",
      "Epoch 0: 100%|█████████████████████████████████████████████████████████| 2/2 [00:04<00:00,  2.09s/it, loss=0, v_num=]\u001b[A\n",
      "Epoch 0: 100%|█████████████████████████████████████████████████████████| 2/2 [00:04<00:00,  2.09s/it, loss=0, v_num=]\u001b[A\n"
     ]
    }
   ],
   "source": [
    "trainer.fit(model=model, datamodule=datamodule)"
   ]
  },
  {
   "cell_type": "code",
   "execution_count": null,
   "id": "72a0ac34-ca56-4fb4-afd6-5b99ec2ec1d3",
   "metadata": {},
   "outputs": [],
   "source": []
  }
 ],
 "metadata": {
  "kernelspec": {
   "display_name": "torchgeo_dev",
   "language": "python",
   "name": "torchgeo_dev"
  },
  "language_info": {
   "codemirror_mode": {
    "name": "ipython",
    "version": 3
   },
   "file_extension": ".py",
   "mimetype": "text/x-python",
   "name": "python",
   "nbconvert_exporter": "python",
   "pygments_lexer": "ipython3",
   "version": "3.9.10"
  }
 },
 "nbformat": 4,
 "nbformat_minor": 5
}
