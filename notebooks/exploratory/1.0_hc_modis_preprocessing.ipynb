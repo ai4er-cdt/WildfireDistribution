{
 "cells": [
  {
   "cell_type": "markdown",
   "id": "833b03ee",
   "metadata": {},
   "source": [
    "The purpose of this notebook is to define and test the functions needed for the MODIS class for pre-processing the data. Having explored torchgeo, I have found that the preprocessing must be seperated from the torch work due to limitations on the RasterDataset class. Much of the preprocessing functionality can be taken from the Jupyter Notebooks already written.\n",
    "\n",
    "Base Class: MODIS dataset <br>\n",
    "Subclasses: Julian Day and Confidence Level \n",
    "\n",
    "Attributes required:<br>\n",
    "    - 'root': where we can find all of the MODIS files (in practice a CEDA location accessed via JASMIN) - DONE<br>\n",
    "    <br>\n",
    "Methods required: <br>\n",
    "    - extract data: look in root dir and form dataset object from files - DONE <br>\n",
    "    - crop data: using a shape file, crop the dataset spatially - TODO <br>\n",
    "    - plot data: create plots for the current dataset - TODO <br>\n",
    "    - save data: save the altered files back in their tif format so torchgeo is ready to use - TODO<br>\n",
    "    "
   ]
  },
  {
   "cell_type": "code",
   "execution_count": 3,
   "id": "ac32010d",
   "metadata": {},
   "outputs": [],
   "source": [
    "import os\n",
    "import re\n",
    "import glob\n",
    "\n",
    "import rioxarray as rxr\n",
    "import xarray as xr\n",
    "import matplotlib as mpl\n",
    "import matplotlib.pylab as plt\n",
    "import numpy as np\n",
    "import fiona"
   ]
  },
  {
   "cell_type": "markdown",
   "id": "316a71a3",
   "metadata": {},
   "source": [
    "## Base Class Specification "
   ]
  },
  {
   "cell_type": "code",
   "execution_count": 162,
   "id": "34e58fa1",
   "metadata": {},
   "outputs": [],
   "source": [
    "class PP_ModisFireCCI():\n",
    "    \"\"\"Abstract base class for the preprocessing of all MODIS Fire CCI Burned Area datasets. This class should\n",
    "       not be called directly - instead use the subclass objects.\n",
    "\n",
    "    `MODIS Fire_cci Burned Area Dataset: <https://geogra.uah.es/fire_cci/firecci51.php>`_\n",
    "    This dataset was developed by ESA, utilising the MODIS satellite. The dataset contains\n",
    "    information at both PIXEL (~250m) and GRID (0.25 degrees) resolutions. A variety of \n",
    "    useful information is contained within the datasets including Julian Day of burn, \n",
    "    confidence level of burn etc.\n",
    "    For more information, see:\n",
    "    * `User Guide\n",
    "      <https://climate.esa.int/media/documents/Fire_cci_D4.2_PUG-MODIS_v1.0.pdf>`_\n",
    "    \"\"\"\n",
    "    \n",
    "    #: Root directory (in CEDA) where the MODIS files can be found.\n",
    "    root = None\n",
    "    \n",
    "    #: Glob expression used to search for files.\n",
    "    filename_glob = None\n",
    "    \n",
    "    #: Regular expression used to extract date from filename.\n",
    "    filename_regex = \"(?P<date>\\d{6})\\S{33}(?P<tile_number>\\d).*\"\n",
    "\n",
    "    #: Date format string used to parse date from filename.\n",
    "    date_format = \"%Y%m\"\n",
    "    \n",
    "    #: DataArray used to store the relevant MODIS data.\n",
    "    data = None\n",
    "    \n",
    "    \n",
    "    def __init__(\n",
    "        self,\n",
    "        root: str,\n",
    "    ) -> None:\n",
    "        \"\"\"Initialize a new Preprocessing instance.\n",
    "        Args:\n",
    "            root: root directory where dataset can be found\n",
    "        Raises:\n",
    "            FileNotFoundError: if no files are found in ``root``\n",
    "        \"\"\"\n",
    "        \n",
    "        # Set the root attribute to that passed into the constructor\n",
    "        self.root = root\n",
    "      \n",
    "    \n",
    "    def extract_data(self):\n",
    "        \"\"\"Extract the relevant data from the root directory and store it within the object using a DataArray\"\"\"\n",
    "        \n",
    "        # Populate a list of DataArrays using the seperate files\n",
    "        dataArrays = []\n",
    "        pathname = os.path.join(self.root, \"**\", self.filename_glob)\n",
    "        filename_regex = re.compile(self.filename_regex, re.VERBOSE)\n",
    "        \n",
    "        # For each file found, index the data using the date it corresponds to\n",
    "        for filepath in glob.iglob(pathname, recursive=True):\n",
    "            match = re.match(self.filename_regex, os.path.basename(filepath))\n",
    "            data = rxr.open_rasterio(filepath)\n",
    "            data = data.assign_coords(date=match.group(\"date\"))\n",
    "            dataArrays.append(data)\n",
    "            \n",
    "        # Finally concatenate the DataArrays and store the result in the object     \n",
    "        self.data = xr.concat(dataArrays, dim='date')\n",
    "    \n",
    "    "
   ]
  },
  {
   "cell_type": "markdown",
   "id": "31c817e0",
   "metadata": {},
   "source": [
    "## Julian Day Implementation "
   ]
  },
  {
   "cell_type": "code",
   "execution_count": 163,
   "id": "1d77f02d",
   "metadata": {},
   "outputs": [],
   "source": [
    "class PP_Modis_JD(PP_ModisFireCCI):\n",
    "    \"\"\"\n",
    "    Preprocessing class for the burn day (in Julian Days) that a burned area is first seen on.\n",
    "    \n",
    "    Possible values (mask not image): \n",
    "        -2 = pixel not of burnable type e.g. water, urban areas or permanent snow/ice.\n",
    "        -1 = pixel not observed in the month (possible cloud cover etc)\n",
    "         0  = pixel is not burned \n",
    "        [1,366] = Julian Day of first detection when the pixel is burned \n",
    "    \"\"\"\n",
    "\n",
    "    filename_glob = \"*JD.tif\" \n",
    "    "
   ]
  },
  {
   "cell_type": "code",
   "execution_count": 164,
   "id": "1dbd57f3",
   "metadata": {},
   "outputs": [],
   "source": [
    "test_obj = PP_Modis_JD(\"Modis Data\")"
   ]
  },
  {
   "cell_type": "code",
   "execution_count": 165,
   "id": "391dcb9e",
   "metadata": {},
   "outputs": [],
   "source": [
    "test_obj.extract_data()"
   ]
  },
  {
   "cell_type": "code",
   "execution_count": 166,
   "id": "b7ce806f",
   "metadata": {},
   "outputs": [
    {
     "name": "stdout",
     "output_type": "stream",
     "text": [
      "<xarray.DataArray (date: 3, band: 1, y: 25827, x: 35178)>\n",
      "array([[[[-1, -1, -1, ..., -2, -2, -2],\n",
      "         [-1, -1, -1, ..., -2, -2, -2],\n",
      "         [-1, -1, -1, ..., -2, -2, -2],\n",
      "         ...,\n",
      "         [-2, -2, -2, ..., -2, -2, -2],\n",
      "         [-2, -2, -2, ..., -2, -2, -2],\n",
      "         [-2, -2, -2, ..., -2, -2, -2]]],\n",
      "\n",
      "\n",
      "       [[[-1, -1, -1, ..., -2, -2, -2],\n",
      "         [-1, -1, -1, ..., -2, -2, -2],\n",
      "         [-1, -1, -1, ..., -2, -2, -2],\n",
      "         ...,\n",
      "         [-2, -2, -2, ..., -2, -2, -2],\n",
      "         [-2, -2, -2, ..., -2, -2, -2],\n",
      "         [-2, -2, -2, ..., -2, -2, -2]]],\n",
      "\n",
      "\n",
      "       [[[-1, -1, -1, ..., -2, -2, -2],\n",
      "         [-1, -1, -1, ..., -2, -2, -2],\n",
      "         [-1, -1, -1, ..., -2, -2, -2],\n",
      "         ...,\n",
      "         [-2, -2, -2, ..., -2, -2, -2],\n",
      "         [-2, -2, -2, ..., -2, -2, -2],\n",
      "         [-2, -2, -2, ..., -2, -2, -2]]]], dtype=int16)\n",
      "Coordinates:\n",
      "  * band         (band) int64 1\n",
      "  * x            (x) float64 -26.0 -26.0 -26.0 -25.99 ... 52.99 52.99 53.0 53.0\n",
      "  * y            (y) float64 83.0 83.0 82.99 82.99 ... 25.01 25.01 25.0 25.0\n",
      "    spatial_ref  int64 0\n",
      "  * date         (date) <U6 '202003' '202004' '202005'\n",
      "Attributes:\n",
      "    scale_factor:  1.0\n",
      "    add_offset:    0.0\n"
     ]
    }
   ],
   "source": [
    "print(test_obj.data)"
   ]
  },
  {
   "cell_type": "markdown",
   "id": "ce78209a",
   "metadata": {},
   "source": [
    "## Confidence Level Implementation "
   ]
  },
  {
   "cell_type": "code",
   "execution_count": null,
   "id": "3ca38eec",
   "metadata": {},
   "outputs": [],
   "source": []
  }
 ],
 "metadata": {
  "kernelspec": {
   "display_name": "Python 3 (ipykernel)",
   "language": "python",
   "name": "python3"
  },
  "language_info": {
   "codemirror_mode": {
    "name": "ipython",
    "version": 3
   },
   "file_extension": ".py",
   "mimetype": "text/x-python",
   "name": "python",
   "nbconvert_exporter": "python",
   "pygments_lexer": "ipython3",
   "version": "3.7.11"
  }
 },
 "nbformat": 4,
 "nbformat_minor": 5
}
