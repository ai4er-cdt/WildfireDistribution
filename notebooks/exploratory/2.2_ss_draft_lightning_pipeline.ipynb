{
 "cells": [
  {
   "cell_type": "code",
   "execution_count": 2,
   "id": "e1f414ba-5449-4f39-a55f-8a202e6be7f6",
   "metadata": {},
   "outputs": [],
   "source": [
    "import os\n",
    "import tempfile\n",
    "from glob import glob\n",
    "from typing import Any, Callable, Dict, Optional\n",
    "\n",
    "import matplotlib.pyplot as plt\n",
    "import pytorch_lightning as pl\n",
    "import torch\n",
    "import torch.nn as nn\n",
    "import torch.nn.functional as F\n",
    "from rasterio.crs import CRS\n",
    "from torch.utils.data import DataLoader\n",
    "from torchgeo.datasets import BoundingBox, stack_samples\n",
    "from torchgeo.datasets.utils import download_url"
   ]
  },
  {
   "cell_type": "code",
   "execution_count": 3,
   "id": "14abc1a3-e067-424c-8062-55ade3ee0c00",
   "metadata": {},
   "outputs": [],
   "source": [
    "%load_ext autoreload\n",
    "%autoreload 2"
   ]
  },
  {
   "cell_type": "code",
   "execution_count": 4,
   "id": "dac8f21a-6368-45f8-be10-25c925e878fc",
   "metadata": {},
   "outputs": [
    {
     "data": {
      "text/plain": [
       "'/home/users/sofijas/WildfireDistribution'"
      ]
     },
     "execution_count": 4,
     "metadata": {},
     "output_type": "execute_result"
    }
   ],
   "source": [
    "os.chdir(\"/home/users/sofijas/WildfireDistribution/\")\n",
    "os.getcwd()"
   ]
  },
  {
   "cell_type": "code",
   "execution_count": 5,
   "id": "342c734d-638d-4047-86c6-e333461d0a13",
   "metadata": {},
   "outputs": [],
   "source": [
    "from src.data_loading import MODIS_JD, LandcoverComplex, LandcoverSimple\n",
    "from src.datamodules import MODISJDLandcoverSimpleDataModule"
   ]
  },
  {
   "cell_type": "code",
   "execution_count": 6,
   "id": "4fbfcbd9-9cd1-4c94-bb1a-5d937f91fb4a",
   "metadata": {},
   "outputs": [],
   "source": [
    "plt.rcParams.update({\"figure.figsize\": [20, 20]})\n",
    "plt.rcParams.update({\"font.size\": 15})"
   ]
  },
  {
   "cell_type": "markdown",
   "id": "1c169232-84f1-49f0-a3be-46fa4546c80b",
   "metadata": {},
   "source": [
    "Loading the two datasets separately to check their details. "
   ]
  },
  {
   "cell_type": "code",
   "execution_count": 6,
   "id": "027c6049-1090-4675-9e7d-696f479f8437",
   "metadata": {},
   "outputs": [],
   "source": [
    "# creating MODIS dataset from all julian day date we have\n",
    "# modis_ds = MODIS_JD(\"data/MODIS/*/\")"
   ]
  },
  {
   "cell_type": "code",
   "execution_count": 7,
   "id": "cf563fc9-9917-43dd-895e-3a607552ceee",
   "metadata": {},
   "outputs": [],
   "source": [
    "# print(modis_ds)"
   ]
  },
  {
   "cell_type": "code",
   "execution_count": 7,
   "id": "49aeb2d0-c4fe-4054-90e1-bbd05bb1fe79",
   "metadata": {},
   "outputs": [],
   "source": [
    "land_simple = LandcoverSimple(\"data/Classified/\")"
   ]
  },
  {
   "cell_type": "code",
   "execution_count": 8,
   "id": "942ea435-8ded-4d51-8635-f56b51c48fb4",
   "metadata": {},
   "outputs": [
    {
     "name": "stdout",
     "output_type": "stream",
     "text": [
      "LandcoverSimple Dataset\n",
      "    type: GeoDataset\n",
      "    bbox: BoundingBox(minx=22.944589323923992, maxx=31.80952387372908, miny=50.50130897957443, maxy=53.044619211973625, mint=0.0, maxt=9.223372036854776e+18)\n",
      "    size: 1024\n"
     ]
    }
   ],
   "source": [
    "print(land_simple)"
   ]
  },
  {
   "cell_type": "code",
   "execution_count": 9,
   "id": "d66c7403-e2d2-4928-a407-9a5ce6dfec44",
   "metadata": {},
   "outputs": [],
   "source": [
    "tile_size_pix = 256\n",
    "sampler_size = tile_size_pix * land_simple.res"
   ]
  },
  {
   "cell_type": "code",
   "execution_count": 22,
   "id": "e9a706b8-76f1-48ff-bd15-8a815a058dd1",
   "metadata": {},
   "outputs": [],
   "source": [
    "# not using this at the minute, could be useful for passing a reasonable sample length\n",
    "\n",
    "# def get_bbox_area(box):\n",
    "#     return (box.maxx - box.minx) * (box.maxy - box.miny)\n",
    "\n",
    "\n",
    "# sampler_len = int(get_bbox_area(ds.bounds) / (sampler_size * sampler_size))\n",
    "# sampler = RandomBatchGeoSampler(\n",
    "#     input_ds, size=sampler_size, batch_size=8, length=sampler_len\n",
    "# )"
   ]
  },
  {
   "cell_type": "markdown",
   "id": "a35569f6-2ba3-4c2e-915d-5ba7c2c35b7e",
   "metadata": {},
   "source": [
    "## Loading all MODIS JD and simple landcover data using our custom made datamodule"
   ]
  },
  {
   "cell_type": "code",
   "execution_count": 10,
   "id": "f135803c-1351-432f-a0f0-53b10cf18f57",
   "metadata": {},
   "outputs": [],
   "source": [
    "# patch size is in units of CRS, the size of the sample in pixels\n",
    "# corresponds to (patch_size / res)\n",
    "\n",
    "datamodule = MODISJDLandcoverSimpleDataModule(\n",
    "    modis_root_dir=\"data/MODIS/*/\",\n",
    "    landcover_root_dir=\"data/Classified/\",\n",
    "    patch_size=sampler_size,\n",
    "    batch_size=5,\n",
    ")"
   ]
  },
  {
   "cell_type": "code",
   "execution_count": 110,
   "id": "4a1f9b0f-e8b5-4e45-b824-ae0f362d3e26",
   "metadata": {},
   "outputs": [],
   "source": [
    "# this creates our dataset instance\n",
    "datamodule.setup()"
   ]
  },
  {
   "cell_type": "code",
   "execution_count": 111,
   "id": "24adf306-615e-40be-b162-7409ce9ede9b",
   "metadata": {},
   "outputs": [],
   "source": [
    "ds = datamodule.dataset"
   ]
  },
  {
   "cell_type": "code",
   "execution_count": 58,
   "id": "e331c1c9-c9e6-46e8-986a-01a3aa619049",
   "metadata": {},
   "outputs": [
    {
     "name": "stdout",
     "output_type": "stream",
     "text": [
      "IntersectionDataset Dataset\n",
      "    type: IntersectionDataset\n",
      "    bbox: BoundingBox(minx=22.944589323923992, maxx=31.80952387372908, miny=50.50130897957443, maxy=53.044619211973625, mint=978307199.999999, maxt=1609459199.999999)\n",
      "    size: 245760\n"
     ]
    }
   ],
   "source": [
    "print(ds)"
   ]
  },
  {
   "cell_type": "code",
   "execution_count": 112,
   "id": "45459d75-73f1-4001-b98d-eb5cd910bfbb",
   "metadata": {},
   "outputs": [],
   "source": [
    "train_dl = datamodule.train_dataloader()"
   ]
  },
  {
   "cell_type": "code",
   "execution_count": 113,
   "id": "8a8f054f-8e3f-46a0-b8e6-494bf300d6d4",
   "metadata": {},
   "outputs": [],
   "source": [
    "for sample in train_dl:\n",
    "    image = sample[\"image\"]\n",
    "    mask = sample[\"mask\"]"
   ]
  },
  {
   "cell_type": "code",
   "execution_count": 63,
   "id": "5a86b1cc-791c-43e4-8de4-011178110523",
   "metadata": {},
   "outputs": [
    {
     "data": {
      "text/plain": [
       "(torch.Size([5, 10, 256, 256]), torch.Size([5, 1, 256, 256]))"
      ]
     },
     "execution_count": 63,
     "metadata": {},
     "output_type": "execute_result"
    }
   ],
   "source": [
    "# landcover is not an image, but this is the simplest way to make\n",
    "# a distinction between predictors and targets/labels for now\n",
    "\n",
    "\n",
    "# first dimension is the batch size (number of samples in batch),\n",
    "# second is the number of 'channels' (our one hot encoded layers are here)\n",
    "# and the last two are the image size in pixels\n",
    "image.shape, mask.shape"
   ]
  },
  {
   "cell_type": "code",
   "execution_count": 16,
   "id": "943a8a83-c026-4cfd-a41e-8c9382bc0607",
   "metadata": {},
   "outputs": [
    {
     "data": {
      "text/plain": [
       "(-0.5, 255.5, 255.5, -0.5)"
      ]
     },
     "execution_count": 16,
     "metadata": {},
     "output_type": "execute_result"
    },
    {
     "data": {
      "image/png": "[encoded data removed]",
      "text/plain": [
       "<Figure size 1440x4752 with 11 Axes>"
      ]
     },
     "metadata": {
      "needs_background": "light"
     },
     "output_type": "display_data"
    }
   ],
   "source": [
    "ncols = 11\n",
    "nrows = 1\n",
    "\n",
    "sample_n = 2\n",
    "\n",
    "fig, axs = plt.subplots(\n",
    "    nrows=1,\n",
    "    ncols=ncols,\n",
    "    figsize=(20, ncols * 6),\n",
    ")\n",
    "\n",
    "for i in range(ncols - 1):\n",
    "    img = image[sample_n, i, :, :]\n",
    "    img = torch.squeeze(img)\n",
    "    axs[i].imshow(img)\n",
    "    axs[i].axis(\"off\")\n",
    "\n",
    "msk = mask[sample_n, :, :, :]\n",
    "msk = torch.squeeze(msk)\n",
    "axs[10].imshow(msk)\n",
    "axs[10].axis(\"off\")"
   ]
  },
  {
   "cell_type": "markdown",
   "id": "650e6c24-9b1d-4fa6-b41e-631fb7259865",
   "metadata": {},
   "source": [
    "Questions/comments\n",
    "\n",
    "1. How to deal with all the missing data?\n",
    "2. How should we create the train/test/val splits? \n",
    "3. Are there any other transforms that should be performed (no need to normalise etc.)"
   ]
  },
  {
   "cell_type": "markdown",
   "id": "87eba786-fa3f-455e-879c-cc9a55a82904",
   "metadata": {},
   "source": [
    "## First go at using torchgeo segmentation task (this contains all the model and training logic)"
   ]
  },
  {
   "cell_type": "code",
   "execution_count": 11,
   "id": "c309d207-e9be-44b6-b68f-ef36b85b3edb",
   "metadata": {},
   "outputs": [],
   "source": [
    "from pytorch_lightning.callbacks import EarlyStopping, ModelCheckpoint\n",
    "from pytorch_lightning.loggers import CSVLogger\n",
    "from torchgeo.trainers import SemanticSegmentationTask"
   ]
  },
  {
   "cell_type": "code",
   "execution_count": 12,
   "id": "bbdd73de-62ff-464f-a4d1-c9550ac4298f",
   "metadata": {},
   "outputs": [
    {
     "data": {
      "text/plain": [
       "\u001b[0;31mInit signature:\u001b[0m \u001b[0mSemanticSegmentationTask\u001b[0m\u001b[0;34m(\u001b[0m\u001b[0;34m**\u001b[0m\u001b[0mkwargs\u001b[0m\u001b[0;34m:\u001b[0m \u001b[0mAny\u001b[0m\u001b[0;34m)\u001b[0m \u001b[0;34m->\u001b[0m \u001b[0;32mNone\u001b[0m\u001b[0;34m\u001b[0m\u001b[0;34m\u001b[0m\u001b[0m\n",
       "\u001b[0;31mDocstring:\u001b[0m      LightningModule for semantic segmentation of images.\n",
       "\u001b[0;31mInit docstring:\u001b[0m\n",
       "Initialize the LightningModule with a model and loss function.\n",
       "\n",
       "Keyword Args:\n",
       "    segmentation_model: Name of the segmentation model type to use\n",
       "    encoder_name: Name of the encoder model backbone to use\n",
       "    encoder_weights: None or \"imagenet\" to use imagenet pretrained weights in\n",
       "        the encoder model\n",
       "    in_channels: Number of channels in input image\n",
       "    num_classes: Number of semantic classes to predict\n",
       "    loss: Name of the loss function\n",
       "    ignore_zeros: Whether to ignore the \"0\" class value in the loss and metrics\n",
       "\n",
       "Raises:\n",
       "    ValueError: if kwargs arguments are invalid\n",
       "\u001b[0;31mFile:\u001b[0m           ~/miniconda3/envs/torchgeo/lib/python3.9/site-packages/torchgeo/trainers/__init__.py\n",
       "\u001b[0;31mType:\u001b[0m           type\n",
       "\u001b[0;31mSubclasses:\u001b[0m     \n"
      ]
     },
     "metadata": {},
     "output_type": "display_data"
    }
   ],
   "source": [
    "SemanticSegmentationTask?"
   ]
  },
  {
   "cell_type": "code",
   "execution_count": 13,
   "id": "fa635f17-2d33-4577-a135-f8c1282e5995",
   "metadata": {},
   "outputs": [
    {
     "name": "stderr",
     "output_type": "stream",
     "text": [
      "/home/users/sofijas/miniconda3/envs/torchgeo/lib/python3.9/site-packages/deprecate/deprecation.py:115: FutureWarning: The `IoU` was deprecated since v0.7 in favor of `torchmetrics.classification.jaccard.JaccardIndex`. It will be removed in v0.8.\n",
      "  stream(template_mgs % msg_args)\n"
     ]
    }
   ],
   "source": [
    "task = SemanticSegmentationTask(\n",
    "    segmentation_model=\"unet\",\n",
    "    encoder_name=\"resnet18\",\n",
    "    encoder_weights=None,\n",
    "    in_channels=10,\n",
    "    num_classes=2,\n",
    "    loss=\"ce\",\n",
    "    ignore_zeros=True,\n",
    "    learning_rate=0.1,\n",
    "    learning_rate_schedule_patience=5,\n",
    ")"
   ]
  },
  {
   "cell_type": "code",
   "execution_count": 14,
   "id": "65282c98-cefe-4c65-9c55-9302c97f4d7d",
   "metadata": {},
   "outputs": [],
   "source": [
    "fcn = SemanticSegmentationTask(\n",
    "    segmentation_model=\"fcn\",\n",
    "    in_channels=10,\n",
    "    num_classes=2,\n",
    "    num_filters=64,\n",
    "    loss=\"ce\",\n",
    "    ignore_zeros=True,\n",
    "    learning_rate=0.1,\n",
    "    learning_rate_schedule_patience=5,\n",
    ")"
   ]
  },
  {
   "cell_type": "code",
   "execution_count": 27,
   "id": "6896b45a-ade6-40f7-8503-ce61410eeef3",
   "metadata": {},
   "outputs": [],
   "source": [
    "# experiment_dir = os.path.join(tempfile.gettempdir(), \"results\")\n",
    "\n",
    "# checkpoint_callback = ModelCheckpoint(\n",
    "#     monitor=\"val_loss\",\n",
    "#     dirpath=experiment_dir,\n",
    "#     save_top_k=1,\n",
    "#     save_last=True,\n",
    "# )\n",
    "\n",
    "# early_stopping_callback = EarlyStopping(\n",
    "#     monitor=\"val_loss\",\n",
    "#     min_delta=0.00,\n",
    "#     patience=10,\n",
    "# )\n",
    "\n",
    "# csv_logger = CSVLogger(save_dir=experiment_dir, name=\"tutorial_logs\")"
   ]
  },
  {
   "cell_type": "code",
   "execution_count": 15,
   "id": "b3a88acb-864f-4d55-b343-5087b3731a64",
   "metadata": {},
   "outputs": [
    {
     "name": "stderr",
     "output_type": "stream",
     "text": [
      "GPU available: False, used: False\n",
      "TPU available: False, using: 0 TPU cores\n",
      "IPU available: False, using: 0 IPUs\n",
      "Running in fast_dev_run mode: will run a full train, val, test and prediction loop using 1 batch(es).\n"
     ]
    }
   ],
   "source": [
    "trainer = pl.Trainer(\n",
    "    logger=None,\n",
    "    fast_dev_run=True,\n",
    "    log_every_n_steps=1\n",
    "    # callbacks=[checkpoint_callback, early_stopping_callback],\n",
    "    # logger=[csv_logger],\n",
    "    # default_root_dir=experiment_dir,\n",
    "    # min_epochs=1,\n",
    "    # max_epochs=5,\n",
    ")"
   ]
  },
  {
   "cell_type": "code",
   "execution_count": 16,
   "id": "d2251c36-a091-41f6-8e16-971959474d51",
   "metadata": {},
   "outputs": [
    {
     "name": "stderr",
     "output_type": "stream",
     "text": [
      "\n",
      "  | Name          | Type             | Params\n",
      "---------------------------------------------------\n",
      "0 | model         | FCN              | 153 K \n",
      "1 | loss          | CrossEntropyLoss | 0     \n",
      "2 | train_metrics | MetricCollection | 0     \n",
      "3 | val_metrics   | MetricCollection | 0     \n",
      "4 | test_metrics  | MetricCollection | 0     \n",
      "---------------------------------------------------\n",
      "153 K     Trainable params\n",
      "0         Non-trainable params\n",
      "153 K     Total params\n",
      "0.615     Total estimated model params size (MB)\n",
      "/home/users/sofijas/miniconda3/envs/torchgeo/lib/python3.9/site-packages/pytorch_lightning/trainer/data_loading.py:659: UserWarning: Your `val_dataloader` has `shuffle=True`, it is strongly recommended that you turn this off for val/test/predict dataloaders.\n",
      "  rank_zero_warn(\n"
     ]
    },
    {
     "data": {
      "application/vnd.jupyter.widget-view+json": {
       "model_id": "18ff3035dd1b4992bd9621f0009b4780",
       "version_major": 2,
       "version_minor": 0
      },
      "text/plain": [
       "Training: 0it [00:00, ?it/s]"
      ]
     },
     "metadata": {},
     "output_type": "display_data"
    },
    {
     "name": "stderr",
     "output_type": "stream",
     "text": [
      "[W NNPACK.cpp:79] Could not initialize NNPACK! Reason: Unsupported hardware.\n"
     ]
    },
    {
     "data": {
      "application/vnd.jupyter.widget-view+json": {
       "model_id": "",
       "version_major": 2,
       "version_minor": 0
      },
      "text/plain": [
       "Validating: 0it [00:00, ?it/s]"
      ]
     },
     "metadata": {},
     "output_type": "display_data"
    }
   ],
   "source": [
    "trainer.fit(model=fcn, datamodule=datamodule)"
   ]
  },
  {
   "cell_type": "code",
   "execution_count": null,
   "id": "20e981a8-7045-4ee0-a019-45647e4bf965",
   "metadata": {},
   "outputs": [],
   "source": []
  }
 ],
 "metadata": {
  "kernelspec": {
   "display_name": "torchgeo",
   "language": "python",
   "name": "torchgeo"
  },
  "language_info": {
   "codemirror_mode": {
    "name": "ipython",
    "version": 3
   },
   "file_extension": ".py",
   "mimetype": "text/x-python",
   "name": "python",
   "nbconvert_exporter": "python",
   "pygments_lexer": "ipython3",
   "version": "3.9.9"
  }
 },
 "nbformat": 4,
 "nbformat_minor": 5
}
